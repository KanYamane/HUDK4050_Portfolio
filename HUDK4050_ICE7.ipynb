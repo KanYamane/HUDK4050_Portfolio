{
 "cells": [
  {
   "cell_type": "markdown",
   "metadata": {},
   "source": [
    "# ICE7: Implementing New Diagnostic Metrics"
   ]
  },
  {
   "cell_type": "markdown",
   "metadata": {},
   "source": [
    "## Evaluating Results from ACA2"
   ]
  },
  {
   "cell_type": "markdown",
   "metadata": {},
   "source": [
    "### Part1: Replicating the Results"
   ]
  },
  {
   "cell_type": "code",
   "execution_count": 1,
   "metadata": {},
   "outputs": [
    {
     "name": "stdout",
     "output_type": "stream",
     "text": [
      "[[ 174 1675]\n",
      " [ 132 3566]]\n",
      "Accuracy Score: 0.6742383270236164\n"
     ]
    }
   ],
   "source": [
    "# Original code from ACA2\n",
    "\n",
    "## Name the validation dataset 'original_va', and the training dataset 'original_tr'\n",
    "import pandas as pd\n",
    "original_va = pd.read_csv(\"Downloads/aca2_dataset_validation.csv\")\n",
    "original_tr = pd.read_csv(\"Downloads/aca2_dataset_training.csv\")\n",
    "\n",
    "## Clean data\n",
    "## Turn the categorical variables ('SCHOOL', 'GRADE', 'Activity', 'ONTASK') into dummy variables across multiple columns\n",
    "df_va = pd.get_dummies(original_va, columns = ['SCHOOL', 'GRADE', 'Activity', 'ONTASK'])\n",
    "df_tr = pd.get_dummies(original_tr, columns = ['SCHOOL', 'GRADE', 'Activity', 'ONTASK'])\n",
    "\n",
    "## Make the 'ONTASK' columns a single column contating the dependent boolean variable\n",
    "df_va = df_va.rename(columns = {'ONTASK_Y': 'ONTASK'})\n",
    "df_tr = df_tr.rename(columns = {'ONTASK_Y': 'ONTASK'})\n",
    "\n",
    "## Turn 'NumACTIVITIES', 'NumFORMAT', and 'Obsv/act' to dummy variables for analysis\n",
    "## All data points that is over the average of the entire variable will be called 1; 0 otherwis\n",
    "df_va['NUMACTIVITIES_HIGH'] = (df_va['NumACTIVITIES'] > df_va['NumACTIVITIES'].mean()).astype(int)\n",
    "df_tr['NUMACTIVITIES_HIGH'] = (df_tr['NumACTIVITIES'] > df_tr['NumACTIVITIES'].mean()).astype(int)\n",
    "df_va['NUMFORMATS_HIGH'] = (df_va['NumFORMATS'] > df_va['NumFORMATS'].mean()).astype(int)\n",
    "df_tr['NUMFORMATS_HIGH'] = (df_tr['NumFORMATS'] > df_tr['NumFORMATS'].mean()).astype(int)\n",
    "df_va['OBSV/ACT_HIGH'] = (df_va['Obsv/act'] > df_va['Obsv/act'].mean()).astype(int)\n",
    "df_tr['OBSV/ACT_HIGH'] = (df_tr['Obsv/act'] > df_tr['Obsv/act'].mean()).astype(int)\n",
    "\n",
    "## Drop columns unnecessary for classification analysis\n",
    "## turn all column names to lowercase\n",
    "df_va = df_va.drop(['UNIQUEID',\n",
    "                    'Class',\n",
    "                    'STUDENTID',\n",
    "                    'CODER',\n",
    "                    'OBSNUM',\n",
    "                    'ONTASK_N',\n",
    "                    'totalobs-forsession',\n",
    "                    'NumACTIVITIES',\n",
    "                    'TRANSITIONS',\n",
    "                    'NumFORMATS',\n",
    "                    'FORMATchanges',\n",
    "                    'Obsv/act',\n",
    "                    'Transitions/Durations',\n",
    "                    'Total Time'],\n",
    "                   axis = 1)\n",
    "df_tr = df_tr.drop(['UNIQUEID',\n",
    "                    'Class',\n",
    "                    'STUDENTID',\n",
    "                    'CODER',\n",
    "                    'OBSNUM',\n",
    "                    'ONTASK_N',\n",
    "                    'totalobs-forsession',\n",
    "                    'NumACTIVITIES',\n",
    "                    'TRANSITIONS',\n",
    "                    'NumFORMATS',\n",
    "                    'FORMATchanges',\n",
    "                    'Obsv/act',\n",
    "                    'Transitions/Durations',\n",
    "                    'Total Time'],\n",
    "                   axis = 1)\n",
    "df_va.columns = df_va.columns.str.lower()\n",
    "df_tr.columns = df_tr.columns.str.lower()\n",
    "\n",
    "##Create functions to train and test decision tree model, which we used as the solution model for ACA2\n",
    "from sklearn.tree import DecisionTreeClassifier\n",
    "from sklearn.metrics import accuracy_score\n",
    "from sklearn.metrics import confusion_matrix\n",
    "\n",
    "##Function to create a decision tree model given a list of the independent variable column names\n",
    "y_tr = df_tr['ontask']\n",
    "def new_dec_tree (x_cols):\n",
    "    Xs_tr = df_tr[x_cols]\n",
    "    dec_tree_model = DecisionTreeClassifier()\n",
    "    dec_tree_model.fit(Xs_tr, y_tr)\n",
    "    return dec_tree_model\n",
    "\n",
    "##Function to test a logistic regression model\n",
    "y_va = df_va['ontask']\n",
    "def test_dec_tree(x_cols, model):\n",
    "    Xs_va = df_va[x_cols]\n",
    "    pred = model.predict(Xs_va)\n",
    "    print(confusion_matrix(y_va, pred))\n",
    "    print(f\"Accuracy Score: {accuracy_score(y_va, pred)}\")\n",
    "    \n",
    "##Put function together\n",
    "def dec_tree_tester (x_cols):\n",
    "    new_model = new_dec_tree(x_cols)\n",
    "    test_dec_tree(x_cols, new_model)\n",
    "    \n",
    "##Model with highest accuraccy score upon testing\n",
    "x_cols = [\n",
    "'school_a',\n",
    "'school_b',\n",
    "'school_c',\n",
    "'school_d',\n",
    "'school_e',\n",
    "'grade_0',\n",
    "'grade_1',\n",
    "'grade_2',\n",
    "'grade_3',\n",
    "'grade_4',\n",
    "'activity_dancing',\n",
    "'activity_smallgroup',\n",
    "'activity_testing',\n",
    "'activity_wholedesks',\n",
    "'numactivities_high',\n",
    "'obsv/act_high'\n",
    "]\n",
    "dec_tree_tester(x_cols)"
   ]
  },
  {
   "cell_type": "markdown",
   "metadata": {},
   "source": [
    "### Part2: Other Metrics from the Confusion Matrix"
   ]
  },
  {
   "cell_type": "code",
   "execution_count": 2,
   "metadata": {},
   "outputs": [
    {
     "name": "stdout",
     "output_type": "stream",
     "text": [
      "[[ 174 1675]\n",
      " [ 132 3566]]\n",
      "Accuracy Score: 0.6742383270236164\n",
      "Precision Score: 0.6804045029574509\n",
      "Recall Score: 0.9643050297458086\n",
      "F1 Score: 0.7978521087369952\n"
     ]
    }
   ],
   "source": [
    "#Redefine the dec_tree_tester function so that it produces the\n",
    "#precision, recall, accuracy, and f1 score of the model\n",
    "\n",
    "## Import necessary packages\n",
    "from sklearn.metrics import precision_score\n",
    "from sklearn.metrics import recall_score\n",
    "from sklearn.metrics import f1_score\n",
    "\n",
    "## Function to create a decision tree model given a list of the independent variable column names\n",
    "# (y_tr = df_tr['ontask'])\n",
    "def new_dec_tree (x_cols):\n",
    "    Xs_tr = df_tr[x_cols]\n",
    "    dec_tree_model = DecisionTreeClassifier()\n",
    "    dec_tree_model.fit(Xs_tr, y_tr)\n",
    "    return dec_tree_model\n",
    "\n",
    "##Function to test a logistic regression model\n",
    "# (y_va = df_va['ontask'])\n",
    "def test_dec_tree_2(x_cols, model):\n",
    "    Xs_va = df_va[x_cols]\n",
    "    pred = model.predict(Xs_va)\n",
    "    print(confusion_matrix(y_va, pred))\n",
    "    print(f\"Accuracy Score: {accuracy_score(y_va, pred)}\")\n",
    "    print(f\"Precision Score: {precision_score(y_va, pred)}\")\n",
    "    print(f\"Recall Score: {recall_score(y_va, pred)}\")\n",
    "    print(f\"F1 Score: {f1_score(y_va, pred)}\")\n",
    "    \n",
    "##Put function together\n",
    "def dec_tree_tester_2 (x_cols):\n",
    "    new_model = new_dec_tree(x_cols)\n",
    "    test_dec_tree_2(x_cols, new_model)\n",
    "    \n",
    "## Implement new function\n",
    "dec_tree_tester_2(x_cols)"
   ]
  },
  {
   "cell_type": "markdown",
   "metadata": {},
   "source": [
    "### Part3: Creating the ROC Curve, Precision-Recall Curve, and the AUC"
   ]
  },
  {
   "cell_type": "code",
   "execution_count": 8,
   "metadata": {},
   "outputs": [
    {
     "name": "stdout",
     "output_type": "stream",
     "text": [
      "AUC Score: 0.6137455060999455\n"
     ]
    },
    {
     "data": {
      "image/png": "[encoded data removed]",
      "text/plain": [
       "<Figure size 432x288 with 1 Axes>"
      ]
     },
     "metadata": {
      "needs_background": "light"
     },
     "output_type": "display_data"
    }
   ],
   "source": [
    "# Create an ROC plot and the corresponding AUC\n",
    "\n",
    "## Import necessary pacakges\n",
    "from sklearn.metrics import roc_curve\n",
    "from sklearn.metrics import roc_auc_score\n",
    "from matplotlib import pyplot\n",
    "\n",
    "## Create function to calculate the AUC score and the ROC plot\n",
    "## Function to create new model\n",
    "# Recall that y_tr = df_tr['ontask']\n",
    "def new_dec_tree (x_cols):\n",
    "    Xs_tr = df_tr[x_cols]\n",
    "    dec_tree_model = DecisionTreeClassifier()\n",
    "    dec_tree_model.fit(Xs_tr, y_tr)\n",
    "    return dec_tree_model\n",
    "\n",
    "##Function to find the AUC score\n",
    "# (y_va = df_va['ontask'])\n",
    "def auc_roc (x_cols, model):\n",
    "    Xs_va = df_va[x_cols]\n",
    "    pred_proba = model.predict_proba(Xs_va)\n",
    "    pred_proba_positive = pred_proba[:, 1]\n",
    "    \n",
    "    #Find AUC score\n",
    "    auc = roc_auc_score(y_va, pred_proba_positive)\n",
    "    print(f'AUC Score: {auc}')\n",
    "    \n",
    "    #Create ROC curve\n",
    "    fpr, npr, _ = roc_curve(y_va, pred_proba_positive)\n",
    "    pyplot.plot(fpr, npr)\n",
    "    pyplot.xlabel('False Positive Rate')\n",
    "    pyplot.ylabel('True Positive Rate')\n",
    "    pyplot.show()\n",
    "    \n",
    "def auc_roc_generator (x_cols):\n",
    "    new_model = new_dec_tree(x_cols)\n",
    "    auc_roc(x_cols, new_model)\n",
    "\n",
    "auc_roc_generator(x_cols)"
   ]
  },
  {
   "cell_type": "code",
   "execution_count": null,
   "metadata": {},
   "outputs": [],
   "source": []
  }
 ],
 "metadata": {
  "kernelspec": {
   "display_name": "Python 3",
   "language": "python",
   "name": "python3"
  },
  "language_info": {
   "codemirror_mode": {
    "name": "ipython",
    "version": 3
   },
   "file_extension": ".py",
   "mimetype": "text/x-python",
   "name": "python",
   "nbconvert_exporter": "python",
   "pygments_lexer": "ipython3",
   "version": "3.8.5"
  }
 },
 "nbformat": 4,
 "nbformat_minor": 4
}
